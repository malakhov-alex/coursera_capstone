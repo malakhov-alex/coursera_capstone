{
    "cells": [
        {
            "cell_type": "markdown",
            "metadata": {},
            "source": "<h1>Los Angeles Neighborhood Analysis</h1>"
        },
        {
            "cell_type": "markdown",
            "metadata": {},
            "source": "<h3>1. Description of the problem.</h3>"
        },
        {
            "cell_type": "markdown",
            "metadata": {},
            "source": "Let's imagine that some big travel company decided to expand their business. They plans open new hotel, restaurant and travel agency in Los Angeles City, CA. The stakeholders of the travel company wants to know which the most popular places for hotels, restaurants and company offices in the L.A. To get this information I'll should explore and clustering L.A. neighborhoods using neighborhoods geoinformation and venue information. Finally, I'll make visualization clusters on the L.A. map and give a recommendation to recognize that places to make final desition. "
        },
        {
            "cell_type": "markdown",
            "metadata": {},
            "source": "<h3>2. Description of the data.</h3>"
        },
        {
            "cell_type": "markdown",
            "metadata": {},
            "source": "To solve the problem I'll be used two data sorces:\n1. [Los Angeles County Neighborhoods](https://apps.gis.ucla.edu/geodata/dataset/los-angeles-county-neighborhoods) - the dataset from the [UCLA Geoportal](https://apps.gis.ucla.edu/geodata/). This dataset exists in the GeoJSON format and contains the data about all segments of the L.A. City, standalone cities and unincorporated areas of L.A. County. I'll be used the geo data and meta data of the segments of the L.A. City only.\n2. [Foursquare](https://foursquare.com/) - the venues data for L.A. neighborhoods. To get information about L.A. venues I'm using Foursquare Places API. First, I'll get the full venue category list to select ids of needed venue categories: Hotels, Restaurants, Business Centers. Next, I'll get venues of this three categories for each L.A. neighborhood for clustering and visualization. "
        }
    ],
    "metadata": {
        "kernelspec": {
            "display_name": "Python 3",
            "language": "python",
            "name": "python3"
        },
        "language_info": {
            "codemirror_mode": {
                "name": "ipython",
                "version": 3
            },
            "file_extension": ".py",
            "mimetype": "text/x-python",
            "name": "python",
            "nbconvert_exporter": "python",
            "pygments_lexer": "ipython3",
            "version": "3.6.1"
        }
    },
    "nbformat": 4,
    "nbformat_minor": 2
}